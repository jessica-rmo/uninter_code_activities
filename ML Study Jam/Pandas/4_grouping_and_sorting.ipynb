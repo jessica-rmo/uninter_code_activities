{
 "cells": [
  {
   "attachments": {},
   "cell_type": "markdown",
   "metadata": {},
   "source": [
    "Anotações do curso:<br>\n",
    "*Pandas* - https://www.kaggle.com/learn/pandas\n",
    "\n",
    "**4 - Grouping and Sorting**"
   ]
  }
 ],
 "metadata": {
  "language_info": {
   "name": "python"
  },
  "orig_nbformat": 4
 },
 "nbformat": 4,
 "nbformat_minor": 2
}
