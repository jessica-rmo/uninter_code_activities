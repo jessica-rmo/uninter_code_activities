{
 "cells": [
  {
   "attachments": {},
   "cell_type": "markdown",
   "metadata": {},
   "source": [
    "Anotações do curso:<br>\n",
    "*Pandas* - https://www.kaggle.com/learn/pandas\n",
    "\n",
    "**1 - Creating, Reading and Writing**"
   ]
  },
  {
   "attachments": {},
   "cell_type": "markdown",
   "metadata": {},
   "source": [
    "**Dataframes & Series**"
   ]
  },
  {
   "cell_type": "code",
   "execution_count": 1,
   "metadata": {},
   "outputs": [
    {
     "data": {
      "text/html": [
       "<div>\n",
       "<style scoped>\n",
       "    .dataframe tbody tr th:only-of-type {\n",
       "        vertical-align: middle;\n",
       "    }\n",
       "\n",
       "    .dataframe tbody tr th {\n",
       "        vertical-align: top;\n",
       "    }\n",
       "\n",
       "    .dataframe thead th {\n",
       "        text-align: right;\n",
       "    }\n",
       "</style>\n",
       "<table border=\"1\" class=\"dataframe\">\n",
       "  <thead>\n",
       "    <tr style=\"text-align: right;\">\n",
       "      <th></th>\n",
       "      <th>Yes</th>\n",
       "      <th>No</th>\n",
       "    </tr>\n",
       "  </thead>\n",
       "  <tbody>\n",
       "    <tr>\n",
       "      <th>0</th>\n",
       "      <td>1</td>\n",
       "      <td>3</td>\n",
       "    </tr>\n",
       "    <tr>\n",
       "      <th>1</th>\n",
       "      <td>2</td>\n",
       "      <td>4</td>\n",
       "    </tr>\n",
       "  </tbody>\n",
       "</table>\n",
       "</div>"
      ],
      "text/plain": [
       "   Yes  No\n",
       "0    1   3\n",
       "1    2   4"
      ]
     },
     "execution_count": 1,
     "metadata": {},
     "output_type": "execute_result"
    }
   ],
   "source": [
    "# impotando e criando dataframes\n",
    "import pandas as pd\n",
    "\n",
    "pd.DataFrame({'Yes': [1, 2], 'No': [3, 4]})"
   ]
  },
  {
   "cell_type": "code",
   "execution_count": 2,
   "metadata": {},
   "outputs": [
    {
     "data": {
      "text/html": [
       "<div>\n",
       "<style scoped>\n",
       "    .dataframe tbody tr th:only-of-type {\n",
       "        vertical-align: middle;\n",
       "    }\n",
       "\n",
       "    .dataframe tbody tr th {\n",
       "        vertical-align: top;\n",
       "    }\n",
       "\n",
       "    .dataframe thead th {\n",
       "        text-align: right;\n",
       "    }\n",
       "</style>\n",
       "<table border=\"1\" class=\"dataframe\">\n",
       "  <thead>\n",
       "    <tr style=\"text-align: right;\">\n",
       "      <th></th>\n",
       "      <th>Maior</th>\n",
       "      <th>Menor</th>\n",
       "    </tr>\n",
       "  </thead>\n",
       "  <tbody>\n",
       "    <tr>\n",
       "      <th>0</th>\n",
       "      <td>Dó</td>\n",
       "      <td>Lá</td>\n",
       "    </tr>\n",
       "    <tr>\n",
       "      <th>1</th>\n",
       "      <td>Ré</td>\n",
       "      <td>Fá</td>\n",
       "    </tr>\n",
       "    <tr>\n",
       "      <th>2</th>\n",
       "      <td>Mi</td>\n",
       "      <td>Dó</td>\n",
       "    </tr>\n",
       "    <tr>\n",
       "      <th>3</th>\n",
       "      <td>Fá</td>\n",
       "      <td>Sol</td>\n",
       "    </tr>\n",
       "    <tr>\n",
       "      <th>4</th>\n",
       "      <td>Sol</td>\n",
       "      <td>Ré</td>\n",
       "    </tr>\n",
       "    <tr>\n",
       "      <th>5</th>\n",
       "      <td>Lá</td>\n",
       "      <td>Si</td>\n",
       "    </tr>\n",
       "    <tr>\n",
       "      <th>6</th>\n",
       "      <td>Si</td>\n",
       "      <td>Mi</td>\n",
       "    </tr>\n",
       "  </tbody>\n",
       "</table>\n",
       "</div>"
      ],
      "text/plain": [
       "  Maior Menor\n",
       "0    Dó    Lá\n",
       "1    Ré    Fá\n",
       "2    Mi    Dó\n",
       "3    Fá   Sol\n",
       "4   Sol    Ré\n",
       "5    Lá    Si\n",
       "6    Si    Mi"
      ]
     },
     "execution_count": 2,
     "metadata": {},
     "output_type": "execute_result"
    }
   ],
   "source": [
    "# com strings\n",
    "pd.DataFrame({'Maior': ['Dó', 'Ré', 'Mi', 'Fá', 'Sol', 'Lá', 'Si'],\n",
    "              'Menor': ['Lá', 'Fá', 'Dó', 'Sol', 'Ré', 'Si', 'Mi']})"
   ]
  },
  {
   "cell_type": "code",
   "execution_count": 3,
   "metadata": {},
   "outputs": [
    {
     "data": {
      "text/html": [
       "<div>\n",
       "<style scoped>\n",
       "    .dataframe tbody tr th:only-of-type {\n",
       "        vertical-align: middle;\n",
       "    }\n",
       "\n",
       "    .dataframe tbody tr th {\n",
       "        vertical-align: top;\n",
       "    }\n",
       "\n",
       "    .dataframe thead th {\n",
       "        text-align: right;\n",
       "    }\n",
       "</style>\n",
       "<table border=\"1\" class=\"dataframe\">\n",
       "  <thead>\n",
       "    <tr style=\"text-align: right;\">\n",
       "      <th></th>\n",
       "      <th>Maior</th>\n",
       "      <th>Menor</th>\n",
       "    </tr>\n",
       "  </thead>\n",
       "  <tbody>\n",
       "    <tr>\n",
       "      <th>I</th>\n",
       "      <td>Dó</td>\n",
       "      <td>Lá</td>\n",
       "    </tr>\n",
       "    <tr>\n",
       "      <th>II</th>\n",
       "      <td>Ré</td>\n",
       "      <td>Fá</td>\n",
       "    </tr>\n",
       "    <tr>\n",
       "      <th>III</th>\n",
       "      <td>Mi</td>\n",
       "      <td>Dó</td>\n",
       "    </tr>\n",
       "    <tr>\n",
       "      <th>IV</th>\n",
       "      <td>Fá</td>\n",
       "      <td>Sol</td>\n",
       "    </tr>\n",
       "    <tr>\n",
       "      <th>V</th>\n",
       "      <td>Sol</td>\n",
       "      <td>Ré</td>\n",
       "    </tr>\n",
       "    <tr>\n",
       "      <th>VI</th>\n",
       "      <td>Lá</td>\n",
       "      <td>Si</td>\n",
       "    </tr>\n",
       "    <tr>\n",
       "      <th>VII</th>\n",
       "      <td>Si</td>\n",
       "      <td>Mi</td>\n",
       "    </tr>\n",
       "  </tbody>\n",
       "</table>\n",
       "</div>"
      ],
      "text/plain": [
       "    Maior Menor\n",
       "I      Dó    Lá\n",
       "II     Ré    Fá\n",
       "III    Mi    Dó\n",
       "IV     Fá   Sol\n",
       "V     Sol    Ré\n",
       "VI     Lá    Si\n",
       "VII    Si    Mi"
      ]
     },
     "execution_count": 3,
     "metadata": {},
     "output_type": "execute_result"
    }
   ],
   "source": [
    "# com indexes\n",
    "pd.DataFrame({'Maior': ['Dó', 'Ré', 'Mi', 'Fá', 'Sol', 'Lá', 'Si'],\n",
    "              'Menor': ['Lá', 'Fá', 'Dó', 'Sol', 'Ré', 'Si', 'Mi']},\n",
    "              index=['I', 'II', 'III', 'IV', 'V', 'VI', 'VII'])"
   ]
  },
  {
   "cell_type": "code",
   "execution_count": 4,
   "metadata": {},
   "outputs": [
    {
     "data": {
      "text/plain": [
       "0    1\n",
       "1    2\n",
       "2    3\n",
       "3    4\n",
       "4    5\n",
       "dtype: int64"
      ]
     },
     "execution_count": 4,
     "metadata": {},
     "output_type": "execute_result"
    }
   ],
   "source": [
    "pd.Series([1, 2, 3, 4, 5])"
   ]
  },
  {
   "cell_type": "code",
   "execution_count": 5,
   "metadata": {},
   "outputs": [
    {
     "data": {
      "text/plain": [
       "2015    10\n",
       "2016    20\n",
       "2017    30\n",
       "Name: Sales, dtype: int64"
      ]
     },
     "execution_count": 5,
     "metadata": {},
     "output_type": "execute_result"
    }
   ],
   "source": [
    "pd.Series([10, 20, 30], index=['2015', '2016', '2017'], name='Sales')"
   ]
  },
  {
   "cell_type": "code",
   "execution_count": 6,
   "metadata": {},
   "outputs": [
    {
     "data": {
      "text/html": [
       "<div>\n",
       "<style scoped>\n",
       "    .dataframe tbody tr th:only-of-type {\n",
       "        vertical-align: middle;\n",
       "    }\n",
       "\n",
       "    .dataframe tbody tr th {\n",
       "        vertical-align: top;\n",
       "    }\n",
       "\n",
       "    .dataframe thead th {\n",
       "        text-align: right;\n",
       "    }\n",
       "</style>\n",
       "<table border=\"1\" class=\"dataframe\">\n",
       "  <thead>\n",
       "    <tr style=\"text-align: right;\">\n",
       "      <th></th>\n",
       "      <th>id</th>\n",
       "      <th>nome</th>\n",
       "      <th>artista</th>\n",
       "      <th>album</th>\n",
       "      <th>ano</th>\n",
       "      <th>lancamento</th>\n",
       "    </tr>\n",
       "  </thead>\n",
       "  <tbody>\n",
       "    <tr>\n",
       "      <th>0</th>\n",
       "      <td>1</td>\n",
       "      <td>Take Five</td>\n",
       "      <td>The Dave Brubeck Quartet</td>\n",
       "      <td>Time Out</td>\n",
       "      <td>1959</td>\n",
       "      <td>14 de dezembro de 1959</td>\n",
       "    </tr>\n",
       "    <tr>\n",
       "      <th>1</th>\n",
       "      <td>2</td>\n",
       "      <td>In A Sentimental Mood</td>\n",
       "      <td>Duke Ellington And John Coltrane</td>\n",
       "      <td>Duke Ellington &amp; John Coltrane</td>\n",
       "      <td>1963</td>\n",
       "      <td>23 de fevereiro de 1963</td>\n",
       "    </tr>\n",
       "    <tr>\n",
       "      <th>2</th>\n",
       "      <td>3</td>\n",
       "      <td>My Favorite Things</td>\n",
       "      <td>John Coltrane</td>\n",
       "      <td>My Favorite Things</td>\n",
       "      <td>1961</td>\n",
       "      <td>1 de março de 1961</td>\n",
       "    </tr>\n",
       "    <tr>\n",
       "      <th>3</th>\n",
       "      <td>4</td>\n",
       "      <td>So What</td>\n",
       "      <td>Miles Davis</td>\n",
       "      <td>Kind of Blue</td>\n",
       "      <td>1959</td>\n",
       "      <td>17 de agosto de 1959</td>\n",
       "    </tr>\n",
       "    <tr>\n",
       "      <th>4</th>\n",
       "      <td>5</td>\n",
       "      <td>Blue in Green</td>\n",
       "      <td>Miles Davis</td>\n",
       "      <td>Kind of Blue</td>\n",
       "      <td>1959</td>\n",
       "      <td>17 de agosto de 1959</td>\n",
       "    </tr>\n",
       "  </tbody>\n",
       "</table>\n",
       "</div>"
      ],
      "text/plain": [
       "   id                   nome                           artista   \n",
       "0   1              Take Five          The Dave Brubeck Quartet  \\\n",
       "1   2  In A Sentimental Mood  Duke Ellington And John Coltrane   \n",
       "2   3     My Favorite Things                     John Coltrane   \n",
       "3   4                So What                       Miles Davis   \n",
       "4   5          Blue in Green                       Miles Davis   \n",
       "\n",
       "                            album   ano               lancamento  \n",
       "0                        Time Out  1959   14 de dezembro de 1959  \n",
       "1  Duke Ellington & John Coltrane  1963  23 de fevereiro de 1963  \n",
       "2              My Favorite Things  1961       1 de março de 1961  \n",
       "3                    Kind of Blue  1959     17 de agosto de 1959  \n",
       "4                    Kind of Blue  1959     17 de agosto de 1959  "
      ]
     },
     "execution_count": 6,
     "metadata": {},
     "output_type": "execute_result"
    }
   ],
   "source": [
    "# algumas funções\n",
    "# import pandas as pd\n",
    "arquivo = pd.read_csv(\"jazz_and_blues_songs.csv\")\n",
    "arquivo.head()  # traz as primeiras 5 linhas do dataframe\n"
   ]
  },
  {
   "cell_type": "code",
   "execution_count": 7,
   "metadata": {},
   "outputs": [
    {
     "data": {
      "text/plain": [
       "(40, 6)"
      ]
     },
     "execution_count": 7,
     "metadata": {},
     "output_type": "execute_result"
    }
   ],
   "source": [
    "arquivo.shape   # (count de linhas, count de colunas)"
   ]
  },
  {
   "cell_type": "code",
   "execution_count": 8,
   "metadata": {},
   "outputs": [
    {
     "data": {
      "text/html": [
       "<div>\n",
       "<style scoped>\n",
       "    .dataframe tbody tr th:only-of-type {\n",
       "        vertical-align: middle;\n",
       "    }\n",
       "\n",
       "    .dataframe tbody tr th {\n",
       "        vertical-align: top;\n",
       "    }\n",
       "\n",
       "    .dataframe thead th {\n",
       "        text-align: right;\n",
       "    }\n",
       "</style>\n",
       "<table border=\"1\" class=\"dataframe\">\n",
       "  <thead>\n",
       "    <tr style=\"text-align: right;\">\n",
       "      <th></th>\n",
       "      <th>nome</th>\n",
       "      <th>artista</th>\n",
       "      <th>album</th>\n",
       "      <th>ano</th>\n",
       "      <th>lancamento</th>\n",
       "    </tr>\n",
       "    <tr>\n",
       "      <th>id</th>\n",
       "      <th></th>\n",
       "      <th></th>\n",
       "      <th></th>\n",
       "      <th></th>\n",
       "      <th></th>\n",
       "    </tr>\n",
       "  </thead>\n",
       "  <tbody>\n",
       "    <tr>\n",
       "      <th>1</th>\n",
       "      <td>Take Five</td>\n",
       "      <td>The Dave Brubeck Quartet</td>\n",
       "      <td>Time Out</td>\n",
       "      <td>1959</td>\n",
       "      <td>14 de dezembro de 1959</td>\n",
       "    </tr>\n",
       "    <tr>\n",
       "      <th>2</th>\n",
       "      <td>In A Sentimental Mood</td>\n",
       "      <td>Duke Ellington And John Coltrane</td>\n",
       "      <td>Duke Ellington &amp; John Coltrane</td>\n",
       "      <td>1963</td>\n",
       "      <td>23 de fevereiro de 1963</td>\n",
       "    </tr>\n",
       "    <tr>\n",
       "      <th>3</th>\n",
       "      <td>My Favorite Things</td>\n",
       "      <td>John Coltrane</td>\n",
       "      <td>My Favorite Things</td>\n",
       "      <td>1961</td>\n",
       "      <td>1 de março de 1961</td>\n",
       "    </tr>\n",
       "    <tr>\n",
       "      <th>4</th>\n",
       "      <td>So What</td>\n",
       "      <td>Miles Davis</td>\n",
       "      <td>Kind of Blue</td>\n",
       "      <td>1959</td>\n",
       "      <td>17 de agosto de 1959</td>\n",
       "    </tr>\n",
       "    <tr>\n",
       "      <th>5</th>\n",
       "      <td>Blue in Green</td>\n",
       "      <td>Miles Davis</td>\n",
       "      <td>Kind of Blue</td>\n",
       "      <td>1959</td>\n",
       "      <td>17 de agosto de 1959</td>\n",
       "    </tr>\n",
       "  </tbody>\n",
       "</table>\n",
       "</div>"
      ],
      "text/plain": [
       "                     nome                           artista   \n",
       "id                                                            \n",
       "1               Take Five          The Dave Brubeck Quartet  \\\n",
       "2   In A Sentimental Mood  Duke Ellington And John Coltrane   \n",
       "3      My Favorite Things                     John Coltrane   \n",
       "4                 So What                       Miles Davis   \n",
       "5           Blue in Green                       Miles Davis   \n",
       "\n",
       "                             album   ano               lancamento  \n",
       "id                                                                 \n",
       "1                         Time Out  1959   14 de dezembro de 1959  \n",
       "2   Duke Ellington & John Coltrane  1963  23 de fevereiro de 1963  \n",
       "3               My Favorite Things  1961       1 de março de 1961  \n",
       "4                     Kind of Blue  1959     17 de agosto de 1959  \n",
       "5                     Kind of Blue  1959     17 de agosto de 1959  "
      ]
     },
     "execution_count": 8,
     "metadata": {},
     "output_type": "execute_result"
    }
   ],
   "source": [
    "# definindo a primeira coluna do dataframe como o índice\n",
    "arquivo = pd.read_csv(\"jazz_and_blues_songs.csv\", index_col=0)\n",
    "arquivo.head()"
   ]
  }
 ],
 "metadata": {
  "kernelspec": {
   "display_name": "Python 3",
   "language": "python",
   "name": "python3"
  },
  "language_info": {
   "codemirror_mode": {
    "name": "ipython",
    "version": 3
   },
   "file_extension": ".py",
   "mimetype": "text/x-python",
   "name": "python",
   "nbconvert_exporter": "python",
   "pygments_lexer": "ipython3",
   "version": "3.11.2"
  },
  "orig_nbformat": 4
 },
 "nbformat": 4,
 "nbformat_minor": 2
}
