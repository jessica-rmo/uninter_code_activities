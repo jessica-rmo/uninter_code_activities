{
  "nbformat": 4,
  "nbformat_minor": 0,
  "metadata": {
    "colab": {
      "provenance": [],
      "authorship_tag": "ABX9TyNU0IWPcHW5fUEZTlCH0bPp",
      "include_colab_link": true
    },
    "kernelspec": {
      "name": "python3",
      "display_name": "Python 3"
    },
    "language_info": {
      "name": "python"
    }
  },
  "cells": [
    {
      "cell_type": "markdown",
      "metadata": {
        "id": "view-in-github",
        "colab_type": "text"
      },
      "source": [
        "<a href=\"https://colab.research.google.com/github/jessica-rmo/uninter_code_activities/blob/main/atividade_pratica_algoritmos_uninter.ipynb\" target=\"_parent\"><img src=\"https://colab.research.google.com/assets/colab-badge.svg\" alt=\"Open In Colab\"/></a>"
      ]
    },
    {
      "cell_type": "markdown",
      "source": [
        "**Atividade 1**"
      ],
      "metadata": {
        "id": "ktWmI1BOoBdQ"
      }
    },
    {
      "cell_type": "code",
      "execution_count": null,
      "metadata": {
        "colab": {
          "base_uri": "https://localhost:8080/"
        },
        "id": "vSKOe_Y-OWev",
        "outputId": "ff6bc775-d88b-47b8-a625-227e034228cb"
      },
      "outputs": [
        {
          "output_type": "stream",
          "name": "stdout",
          "text": [
            "\n",
            "Bem-vindo(a) ao calculador de descontos! <<<\n",
            ">> Desenvolvido por Jéssica Raquel de Melo Oliveira (RU: 3593002) <<\n",
            "\n",
            "Informe o valor de 1 unidade do produto: 8.49\n",
            "Informe a quantidade do produto desejada: 256\n",
            ">>> O valor total sem desconto é: R$ 2173.44\n",
            ">>> O valor total com desconto é: R$ 1956.10 (desconto: 10%)\n"
          ]
        }
      ],
      "source": [
        "print(\"\"\"\n",
        ">>> Bem-vindo(a) ao calculador de descontos! <<<\n",
        ">> Desenvolvido por Jéssica Raquel de Melo Oliveira (RU: 3593002) <<\n",
        "\"\"\")\n",
        "\n",
        "# ---- variaveis iniciais ---- #\n",
        "preco_unidade = 0.0\n",
        "qtd_produto = 0\n",
        "desconto = 0.0\n",
        "\n",
        "while True:\n",
        "    try:  # verificação da entrada para o preço da unidade\n",
        "        preco_unidade = float(input(\"Informe o valor de 1 unidade do produto: \"))\n",
        "        if (preco_unidade <= 0):\n",
        "            raise ValueError\n",
        "        break\n",
        "    except ValueError:\n",
        "        print(\"(!) Insira um valor numérico válido maior que zero.\")\n",
        "        continue  # retorna para o while da linha 6\n",
        "\n",
        "while True:\n",
        "    try:  # verificação da entrada para a quantidade do produto\n",
        "        qtd_produto = int(input(\"Informe a quantidade do produto desejada: \"))\n",
        "        if (qtd_produto <= 0):\n",
        "            raise ValueError\n",
        "        break\n",
        "    except ValueError:\n",
        "        print(\"(!) Insira um valor inteiro e maior que zero.\")\n",
        "        continue  # retorna para o while da linha 16\n",
        "\n",
        "valor_liquido = preco_unidade * qtd_produto\n",
        "print(\">>> O valor total sem desconto é: R$ {:.2f}\".format(valor_liquido))\n",
        "\n",
        "# loop para calcular o descondo de acordo com a entrada do usuario\n",
        "if qtd_produto < 10:\n",
        "    desconto = 0\n",
        "elif qtd_produto < 100:\n",
        "    desconto = 0.05\n",
        "elif qtd_produto < 1000:\n",
        "    desconto = 0.1\n",
        "else:\n",
        "    desconto = 0.15\n",
        "\n",
        "valor_com_desconto = valor_liquido * (1 - desconto)\n",
        "if (desconto == 0):  # if para printar mensagem caso não haja desconto\n",
        "    print(\"    Nenhum desconto foi aplicado.\")\n",
        "else:  # caso haja desconto, informa o valor calculado ao usuário\n",
        "    porcentagem = int(desconto * 100)  # calcula o valor da porcentagem para exibir ao usuario\n",
        "    print(\">>> O valor total com desconto é: R$ {a:.2f} (desconto: {b:}%)\".format(a=valor_com_desconto,\n",
        "    b=porcentagem))\n"
      ]
    },
    {
      "cell_type": "markdown",
      "source": [
        "**Atividade 2**"
      ],
      "metadata": {
        "id": "uqE9iP5RoFxy"
      }
    },
    {
      "cell_type": "code",
      "source": [
        "print(\"\"\"\n",
        "::::::::: +  Bem-vindo(a) à lanchonete da Jéssica  + :::::::::\n",
        "Desenvolvido por Jéssica Raquel de Melo Oliveira (RU: 3593002)\n",
        "\n",
        ".---------------------------------------------.\n",
        "| ::::::::: +   C A R D Á P I O   + ::::::::: |\n",
        "+---------+-----------------------+-----------+\n",
        "|  Código |       Descrição       |   Valor   |\n",
        "+---------+-----------------------+-----------+\n",
        "|  100    | Cachorro-Quente       | R$   9.00 |       \n",
        "|  101    | Cachorro-Quente Duplo | R$  11.00 |       \n",
        "|  102    | X-Egg                 | R$  12.00 |       \n",
        "|  103    | X-Salada              | R$  13.00 |       \n",
        "|  104    | X-Bacon               | R$  14.00 |       \n",
        "|  105    | X-Tudo                | R$  17.00 |       \n",
        "|  200    | Refrigerante Lata     | R$   5.00 |       \n",
        "|  201    | Chá Gelado            | R$   4.00 |       \n",
        "+---------+-----------------------+-----------+\n",
        "\"\"\")\n",
        "\n",
        "cardapio = {  # dicionário que contém as informações do cardápio\n",
        "    100: {'descricao': 'Cachorro-Quente', 'valor': 9.0},\n",
        "    101: {'descricao': 'Cachorro-Quente Duplo', 'valor': 11.0},\n",
        "    102: {'descricao': 'X-Egg', 'valor': 12.0},\n",
        "    103: {'descricao': 'X-Salada', 'valor': 13.0},\n",
        "    104: {'descricao': 'X-Bacon', 'valor': 14.0},\n",
        "    105: {'descricao': 'X-Tudo', 'valor': 17.0},\n",
        "    200: {'descricao': 'Refrigerante Lata', 'valor': 5.0},\n",
        "    201: {'descricao': 'Chá Gelado', 'valor': 4.0}\n",
        "}\n",
        "\n",
        "# ----- variavais iniciais ----- #\n",
        "total_pedido = 0.0\n",
        "\n",
        "while True:\n",
        "    codigo = int(input(\"Informe o código do produto desejado: \"))\n",
        "\n",
        "    if codigo not in cardapio:  # verifica se o código informado existe no cardápio\n",
        "        print(\"Opção inválida.\")\n",
        "        continue\n",
        "\n",
        "    total_pedido += cardapio[codigo]['valor']\n",
        "    print(f\"Você pediu um {cardapio[codigo]['descricao']} no valor de R$ {cardapio[codigo]['valor']:.2f}\")\n",
        "\n",
        "    opcao = int(input(\"Deseja pedir mais alguma coisa?\\n 1 - Sim\\n 0 - Não\\n>> \"))\n",
        "    if opcao == 0:\n",
        "        break\n",
        "    elif opcao == 1:\n",
        "        continue\n",
        "\n",
        "print(f\"O valor total a ser pago pelo pedido é: R$ {total_pedido:.2f}\")\n"
      ],
      "metadata": {
        "colab": {
          "base_uri": "https://localhost:8080/"
        },
        "id": "SmHN3YpTGIN0",
        "outputId": "3b1cc843-4504-4a52-fa4e-babf593996ea"
      },
      "execution_count": 12,
      "outputs": [
        {
          "output_type": "stream",
          "name": "stdout",
          "text": [
            "\n",
            "::::::::: +  Bem-vindo(a) à lanchonete da Jéssica  + :::::::::\n",
            "Desenvolvido por Jéssica Raquel de Melo Oliveira (RU: 3593002)\n",
            "\n",
            ".---------------------------------------------.\n",
            "| ::::::::: +   C A R D Á P I O   + ::::::::: |\n",
            "+---------+-----------------------+-----------+\n",
            "|  Código |       Descrição       |   Valor   |\n",
            "+---------+-----------------------+-----------+\n",
            "|  100    | Cachorro-Quente       | R$   9.00 |       \n",
            "|  101    | Cachorro-Quente Duplo | R$  11.00 |       \n",
            "|  102    | X-Egg                 | R$  12.00 |       \n",
            "|  103    | X-Salada              | R$  13.00 |       \n",
            "|  104    | X-Bacon               | R$  14.00 |       \n",
            "|  105    | X-Tudo                | R$  17.00 |       \n",
            "|  200    | Refrigerante Lata     | R$   5.00 |       \n",
            "|  201    | Chá Gelado            | R$   4.00 |       \n",
            "+---------+-----------------------+-----------+\n",
            "\n",
            "Informe o código do produto desejado: 102\n",
            "Você pediu um X-Egg no valor de R$ 12.00\n",
            "Deseja pedir mais alguma coisa?\n",
            " 1 - Sim\n",
            " 0 - Não\n",
            ">> 1\n",
            "Informe o código do produto desejado: 210\n",
            "Opção inválida.\n",
            "Informe o código do produto desejado: 201\n",
            "Você pediu um Chá Gelado no valor de R$ 4.00\n",
            "Deseja pedir mais alguma coisa?\n",
            " 1 - Sim\n",
            " 0 - Não\n",
            ">> 0\n",
            "O valor total a ser pago pelo pedido é: R$ 16.00\n"
          ]
        }
      ]
    },
    {
      "cell_type": "markdown",
      "source": [
        "**Atividade 3**"
      ],
      "metadata": {
        "id": "HByPhWGOKSy0"
      }
    },
    {
      "cell_type": "code",
      "source": [],
      "metadata": {
        "id": "q9r229AcKW83"
      },
      "execution_count": null,
      "outputs": []
    },
    {
      "cell_type": "markdown",
      "source": [
        "**Atividade 4**"
      ],
      "metadata": {
        "id": "xnNrlRLIKXRx"
      }
    },
    {
      "cell_type": "code",
      "source": [],
      "metadata": {
        "id": "8erSFCz8KbRC"
      },
      "execution_count": null,
      "outputs": []
    }
  ]
}